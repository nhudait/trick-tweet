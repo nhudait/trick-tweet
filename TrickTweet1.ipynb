{
  "nbformat": 4,
  "nbformat_minor": 0,
  "metadata": {
    "colab": {
      "name": "TrickTweet.ipynb",
      "provenance": [],
      "collapsed_sections": []
    },
    "kernelspec": {
      "name": "python3",
      "display_name": "Python 3"
    },
    "accelerator": "GPU"
  },
  "cells": [
    {
      "cell_type": "markdown",
      "metadata": {
        "id": "XhH-o1_rY9zI",
        "colab_type": "text"
      },
      "source": [
        "# TrickTweet\n",
        "TrickTweet is a Character Language Model which takes in a user's Twitter Handle and generates tweets that sound like them. I chose to use a Character Model over a Language Model for a few reasons:\n",
        "\n",
        "\n",
        "1.   Character Models take up considerablly less space. For any decent word model to work, it would need to have a large vocabulary and would have to have a size in the order of 1000s. For Character Models, there are < 100 characters that are feasibilly considered. This makes our vocabulary much smaller and lets us consider more samples\n",
        "2.   Character Models allowed me to consider non english words or words that were not previously encountered. With Word Models, I would be limitted to only words that I had seen in my training data. It would be possible to come up with an \"Unknown\" token but this would mean that all words that are unknown would have the same meaning and weight by the models definition.\n",
        "\n"
      ]
    },
    {
      "cell_type": "markdown",
      "metadata": {
        "id": "9JUqQYekTKbA",
        "colab_type": "text"
      },
      "source": [
        "# Imports and Setting up The Path\n",
        "Here we just do all the imports necessary and set up the Google Colab Path. For reference my path looked like \"/content/gdrive/TrickTweet\".\n",
        "\n",
        "\n",
        "You will need to get [Twitter Developer Credentials](https://developer.twitter.com/en/docs) and *change consumer_key*, *consumer_secret*, *access_key*, and access_secret"
      ]
    },
    {
      "cell_type": "code",
      "metadata": {
        "id": "cAU7-hZmLp-G",
        "colab_type": "code",
        "colab": {}
      },
      "source": [
        "import json\n",
        "import pandas as pd\n",
        "import numpy as np\n",
        "import sys\n",
        "import tweepy\n",
        "import string\n",
        "import re\n",
        "import random\n",
        "import csv\n",
        "import os\n",
        "import matplotlib.pyplot as plt\n",
        "from pprint import pprint\n",
        "from keras.models import Sequential, load_model\n",
        "from keras.layers import LSTM, Dense, BatchNormalization, Dropout, Bidirectional\n"
      ],
      "execution_count": null,
      "outputs": []
    },
    {
      "cell_type": "code",
      "metadata": {
        "id": "4GjNsLxwLrT-",
        "colab_type": "code",
        "colab": {
          "base_uri": "https://localhost:8080/",
          "height": 35
        },
        "outputId": "3592e771-710a-4ad8-f221-ae8fc40d40a3"
      },
      "source": [
        "from google.colab import drive\n",
        "drive.mount('/content/gdrive')"
      ],
      "execution_count": null,
      "outputs": [
        {
          "output_type": "stream",
          "text": [
            "Drive already mounted at /content/gdrive; to attempt to forcibly remount, call drive.mount(\"/content/gdrive\", force_remount=True).\n"
          ],
          "name": "stdout"
        }
      ]
    },
    {
      "cell_type": "code",
      "metadata": {
        "id": "xOgDgN2CLsVT",
        "colab_type": "code",
        "colab": {}
      },
      "source": [
        "\"\"\"\n",
        "To get all of these keys, fill out the twitter developer API. Access was granted \n",
        "within a day for me\n",
        "\"\"\"\n",
        "consumer_key = \"\"\n",
        "consumer_secret = \"\"\n",
        "access_key = \"\"\n",
        "access_secret = \"\""
      ],
      "execution_count": null,
      "outputs": []
    },
    {
      "cell_type": "markdown",
      "metadata": {
        "id": "2HBXCwFvUX-A",
        "colab_type": "text"
      },
      "source": [
        "# Setting up our Parameters\n",
        "Here we just set up all of our parameters for the model and the preprocessing of the text. \n",
        "\n",
        "For reference, the meaning of each parameter is below:\n",
        " \n",
        "\n",
        "* **SEQ_LEN:** The Length of an input sequence in our LSTM. Typically you would want to do 150-250 characters for Tweets so you can get context of surronding tweets.\n",
        "* **SEQ_STEP:** How much the starting point of your sequence moves at each iteration. If the Sequence Steps is small that means you will have many more samples \n",
        "* **PERCENT_VALIDATION:** The percent of data that we will set aside to check validation accuracy \n",
        "* **NOISE_VALS:** Used to generate some noise to make sure the same character isn't predicted given the same sequence. If we didn't have noise we'd end up having \"the the the.....\"\n",
        "* **GEN_LEN:** The length of a generated sequence\n",
        "* **BATCH_SIZE:** Size of the Batch for our Model \n",
        "* **EPOCHS:** How many Epochs we run\n",
        "* **BASEMODEL_NAME:** Name of the generic Base Model\n",
        "* **TRAIN_BASE_MODEL:** Make True if you want to train the Base Model instead of a specific user \n",
        "* **USE_BASE_MODEL:** Make True if you want to make the Base Model more specific by training for a specific user\n",
        "* **USE_OLD_MODEL:** Make True if you want to train on top of a model for the same user that is being inputted  \n",
        "* **ALPHABET** The set of characters that we consider in our tweets. Any character not in this set will be ignored\n",
        "* **TWITTER_HANDLE:** The handle of the Twitter user that we are looking for the tweets of. \n",
        "\n",
        "Note that if you want to train onn an old model, the SEQ_LEN and ALPHABET need to be the same. If they aren't they won't have the same shape and the model will error out. If a user doesn't have a lot of tweets of you want to do less epochs, make USE_BASE_MODEL true. If you want to make an older model more accurate, make USE_OLD_MODEL true. Can change SEQ_STEP-- good if you have less data\n",
        "\n"
      ]
    },
    {
      "cell_type": "code",
      "metadata": {
        "id": "8IfhIe4yMNa_",
        "colab_type": "code",
        "colab": {}
      },
      "source": [
        "#If getting out of memory errors increase SEQ_LEN\n",
        "SEQ_LEN = 120\n",
        "#If getting out of memory errors increase SEQ_STEP\n",
        "SEQ_STEP = 5\n",
        "PERCENT_VALIDATION = 0.2\n",
        "NOISE_VALS = [0.05, 0.1, 0.2,.3,.4,.5,.6,.7, .8,.9]\n",
        "GEN_LEN = 250\n",
        "BATCH_SIZE = 64\n",
        "EPOCHS = 10\n",
        "\n",
        "BASEMODEL_NAME= \"basemodel\"\n",
        "\n",
        "TRAIN_BASE_MODEL = False\n",
        "USE_BASE_MODEL = False\n",
        "USE_OLD_MODEL = False \n",
        "ALPHABET = set(string.ascii_letters + string.punctuation + ' ')\n",
        "\n",
        "#Whatever your path is to your root directory containing the Language Model Folder \n",
        "MY_DRIVE = \"gdrive/My Drive/\"\n",
        "root_folder = os.path.join(MY_DRIVE, \"TrickTweet\")\n",
        "models_dir = os.path.join(root_folder, \"Models\")\n",
        "weights_dir = os.path.join(root_folder, \"Weights\")\n",
        "base_tweets_dir = os.path.join(root_folder, \"GenericTweets\")\n",
        "\n",
        "TWITTER_HANDLE= \"RBReich\"\n",
        "\n",
        "if TRAIN_BASE_MODEL:\n",
        "  BASENAME = BASEMODEL_NAME\n",
        "else:\n",
        "  BASENAME = TWITTER_HANDLE"
      ],
      "execution_count": null,
      "outputs": []
    },
    {
      "cell_type": "markdown",
      "metadata": {
        "id": "3myItawIcRDx",
        "colab_type": "text"
      },
      "source": [
        "# Retrieval of Data\n",
        "In *get_tweets*, we grab approximitely 3000 tweets from the user (Twitter limits how many tweets that someone can get which makes for this cutoff). Additionally, we can only grab a certain amount of tweets with any 1 call so we loop and call it, each time updating the \"start date\" of when we want to consider. When putting the tweets into our data frame, we choose to ignore any tweets that the user only retweeted because they don't add any language of their own to it."
      ]
    },
    {
      "cell_type": "code",
      "metadata": {
        "id": "0BxZdbLlMQaf",
        "colab_type": "code",
        "colab": {}
      },
      "source": [
        "def get_tweets(screen_name):\n",
        "    auth = tweepy.OAuthHandler(consumer_key, consumer_secret)\n",
        "    auth.set_access_token(access_key, access_secret)\n",
        "    api = tweepy.API(auth)\n",
        "    alltweets = []  \n",
        "    new_tweets = api.user_timeline(screen_name = screen_name,count=400)\n",
        "    alltweets.extend(new_tweets)\n",
        "    oldest = alltweets[-1].id - 1\n",
        "    #keep grabbing tweets until there are no tweets left to grab\n",
        "    i = 0 \n",
        "    while len(new_tweets) > 0:\n",
        "        new_tweets = api.user_timeline(screen_name = screen_name,count=400,max_id=oldest)\n",
        "        alltweets.extend(new_tweets)\n",
        "        oldest = alltweets[-1].id - 1\n",
        "        if len(new_tweets) == 0:\n",
        "          i+=1 \n",
        "    #transform the tweepy tweets into a 2D array that will populate the df \n",
        "    ids = []\n",
        "    dates = []\n",
        "    content = []\n",
        "    outtweets = []\n",
        "    for tweet in alltweets:\n",
        "      #Do not want to consider tweets which are retweets with no added content\n",
        "      if tweet.retweeted:\n",
        "        continue\n",
        "      ids.append(tweet.id_str)\n",
        "      dates.append(tweet.created_at)\n",
        "      content.append(tweet.text)\n",
        "      outtweets.append([tweet.id_str, tweet.created_at, tweet.text])\n",
        "    df = pd.DataFrame({\n",
        "      \"id\":ids,\n",
        "      \"dates\":dates, \n",
        "      \"content\":content\n",
        "    })\n",
        "    return df\n"
      ],
      "execution_count": null,
      "outputs": []
    },
    {
      "cell_type": "code",
      "metadata": {
        "id": "DZ2sOy_QMVZO",
        "colab_type": "code",
        "colab": {
          "base_uri": "https://localhost:8080/",
          "height": 35
        },
        "outputId": "299f8499-95fd-4c60-b12a-82e02ad9ba26"
      },
      "source": [
        "df = get_tweets(TWITTER_HANDLE)\n",
        "len(df)"
      ],
      "execution_count": null,
      "outputs": [
        {
          "output_type": "execute_result",
          "data": {
            "text/plain": [
              "3240"
            ]
          },
          "metadata": {
            "tags": []
          },
          "execution_count": 8
        }
      ]
    },
    {
      "cell_type": "markdown",
      "metadata": {
        "id": "tkzFXEUde-gM",
        "colab_type": "text"
      },
      "source": [
        "# Preprocessing the Data: Cleaning \n",
        "Here I cleaned the tweets to ensure that I wasn't taking in tokens that are out of our vocabulary or that have low chance of conveying any useful information. In particular I made the following changes.\n",
        "\n",
        "\n",
        "1. Removing all links \n",
        "2. Removing all mentions to other Twitter users\n",
        "3. Lowercasing the input\n",
        "\n",
        "\n",
        "Any tweets that are left empty after the preprocessing are not considered in our data"
      ]
    },
    {
      "cell_type": "code",
      "metadata": {
        "id": "tdQk4FmvNduP",
        "colab_type": "code",
        "colab": {}
      },
      "source": [
        "def clean_tweets(data):\n",
        "  lst = []\n",
        "  for item in data:\n",
        "    #Removing all links\n",
        "    newitem = re.sub(r'(https|http)?:\\/\\/(\\w|\\.|\\/|\\?|\\=|\\&|\\%)*\\b', '', item, flags=re.MULTILINE)\n",
        "    #Remove all mentions to other users \n",
        "    newitem = re.sub(\"@[A-Za-z0-9_]+\",\"\",newitem,re.MULTILINE)\n",
        "    #Lowercase the input\n",
        "    newitem = \"\".join([c for c in newitem if c in ALPHABET]).lower()\n",
        "    #Make sure we aren't just adding an empty tweet\n",
        "    if newitem and newitem != \" \":\n",
        "      lst.append(newitem)\n",
        "  return lst "
      ],
      "execution_count": null,
      "outputs": []
    },
    {
      "cell_type": "code",
      "metadata": {
        "id": "AgzPEz1qDKJ6",
        "colab_type": "code",
        "colab": {
          "base_uri": "https://localhost:8080/",
          "height": 35
        },
        "outputId": "dff16978-4aa5-4372-d5fc-5334a1470d1f"
      },
      "source": [
        "if TRAIN_BASE_MODEL:\n",
        "  data = []\n",
        "  for file in os.listdir(base_tweets_dir):\n",
        "    print(file)\n",
        "    \"\"\"\n",
        "    If you want a better performing base model consider splitting the training\n",
        "    data into small chunks and then making the Step Size really small\n",
        "    \"\"\"\n",
        "    data.extend(clean_tweets(list(pd.read_csv(os.path.join(base_tweets_dir,file)).keys())))\n",
        "else:\n",
        "  data = clean_tweets(df[\"content\"])\n",
        "len(data)"
      ],
      "execution_count": null,
      "outputs": [
        {
          "output_type": "execute_result",
          "data": {
            "text/plain": [
              "3184"
            ]
          },
          "metadata": {
            "tags": []
          },
          "execution_count": 10
        }
      ]
    },
    {
      "cell_type": "markdown",
      "metadata": {
        "id": "hFrWbG14iPDV",
        "colab_type": "text"
      },
      "source": [
        "# Preprocessing the Data: Making a Corpus\n",
        "Here I joined all the tweets and made them into a corpus. It made sense to make them into a corpus rather than consider them as individual items because frequently when someone tweets, they tweeted something relevant prior. \n",
        "\n",
        "\n",
        "I also created the mapping of the character to an index for the encoding later on as well as a reverse mapping from the index to the character."
      ]
    },
    {
      "cell_type": "code",
      "metadata": {
        "id": "ICEG5QXMNrqy",
        "colab_type": "code",
        "colab": {}
      },
      "source": [
        "corpus = ''.join(data)\n",
        "characters= sorted(list(set(ALPHABET)))\n",
        "index_to_char = {}\n",
        "char_to_index = {}\n",
        "for idx, char in enumerate(characters):\n",
        "  index_to_char[idx] = char\n",
        "  char_to_index[char] = idx"
      ],
      "execution_count": null,
      "outputs": []
    },
    {
      "cell_type": "markdown",
      "metadata": {
        "id": "1252cT3wkXVy",
        "colab_type": "text"
      },
      "source": [
        "# Preprocessing the Data: Making the Input\n",
        "Here I created all the input sequences of length SEQ_LEN along with the output characters after each sequence. The ith index of output_chars corresponds to the character that follows the ith sequence in input_seqs. \n",
        "\n",
        "\n",
        "After this, I converted the input_seqs list into the proper input for the LSTM. It took the dimensions of length of input sequences x length of sequence x size of vocabulary. \n",
        "\n",
        "X[i][j][k] refers to the ith sequence, jth index in the sequence, and the kth character where k is the mapping of the jth character to an index"
      ]
    },
    {
      "cell_type": "code",
      "metadata": {
        "id": "8PYoqWccNtUO",
        "colab_type": "code",
        "colab": {}
      },
      "source": [
        "input_seqs = []\n",
        "output_chars = []\n",
        "for i in range(0,len(corpus)-SEQ_LEN, SEQ_STEP):\n",
        "  input_seqs.append(corpus[i:i+SEQ_LEN])\n",
        "  output_chars.append(corpus[i+SEQ_LEN])"
      ],
      "execution_count": null,
      "outputs": []
    },
    {
      "cell_type": "code",
      "metadata": {
        "id": "myz282UUNun_",
        "colab_type": "code",
        "colab": {}
      },
      "source": [
        "X = np.zeros((len(input_seqs), SEQ_LEN, len(characters)))\n",
        "y = np.zeros((len(output_chars), len(characters)))\n",
        "for i, seq in enumerate(input_seqs):\n",
        "  for j, char in enumerate(input_seqs[i]):\n",
        "    X[i, j, char_to_index[char]] = 1\n",
        "  y[i, char_to_index[output_chars[i]]] = 1\n"
      ],
      "execution_count": null,
      "outputs": []
    },
    {
      "cell_type": "markdown",
      "metadata": {
        "id": "n2moGUcAoiP9",
        "colab_type": "text"
      },
      "source": [
        "# Split the Data\n",
        "Here I split the data and labels into a training set and a label set"
      ]
    },
    {
      "cell_type": "code",
      "metadata": {
        "id": "2IoCuY2ENvuF",
        "colab_type": "code",
        "colab": {}
      },
      "source": [
        "idxes = np.random.permutation(X.shape[0])\n",
        "val_num = int(PERCENT_VALIDATION*len(X))\n",
        "X = X[idxes]\n",
        "X_train = X[val_num:]\n",
        "X_val = X[:val_num]\n",
        "y = y[idxes]\n",
        "y_train = y[val_num:]\n",
        "y_val = y[:val_num]"
      ],
      "execution_count": null,
      "outputs": []
    },
    {
      "cell_type": "markdown",
      "metadata": {
        "id": "_JxMin6IpijX",
        "colab_type": "text"
      },
      "source": [
        "# Creating the Model\n",
        "I used a model with 4 Bidirectional LSTM Layers with Batchnormalization and Drop outs to ensure that we aren't overfitting and that our numbers remaian normalized and don't get too small or too big. I used softmax activation, categorical cross entropy as the loss, and RMSprop as the optimizer.\n",
        "\n",
        "\n",
        "I also created a couple of helper methods to save and load the models which is useful for training a model on top of another."
      ]
    },
    {
      "cell_type": "code",
      "metadata": {
        "id": "4RTB4p6_NzCI",
        "colab_type": "code",
        "colab": {}
      },
      "source": [
        "def build_model(num_chars):\n",
        "    model = Sequential()\n",
        "    model.add(Bidirectional(LSTM(64, input_shape=(SEQ_LEN, num_chars), return_sequences=True,unit_forget_bias=True)))\n",
        "    model.add(BatchNormalization())\n",
        "    model.add(Dropout(rate=.1))\n",
        "    model.add(Bidirectional(LSTM(128,return_sequences=True,unit_forget_bias=True)))\n",
        "    model.add(BatchNormalization())\n",
        "    model.add(Dropout(rate=.1))\n",
        "    model.add(Bidirectional(LSTM(256,return_sequences=True,unit_forget_bias=True)))\n",
        "    model.add(BatchNormalization())\n",
        "    model.add(Dropout(rate=.1))\n",
        "    model.add(Bidirectional(LSTM(128)))\n",
        "    model.add(BatchNormalization())\n",
        "    model.add(Dropout(rate=.2))\n",
        "    model.add(Dense(num_chars, activation='softmax'))\n",
        "\n",
        "    model.compile(loss='categorical_crossentropy', optimizer='RMSprop')\n",
        "    \n",
        "    return model"
      ],
      "execution_count": null,
      "outputs": []
    },
    {
      "cell_type": "code",
      "metadata": {
        "id": "99yFd_jq4DRY",
        "colab_type": "code",
        "colab": {}
      },
      "source": [
        "def load_keras_model(basename):\n",
        "    \"\"\"\n",
        "        Loads the given model from disk. The model consists of two files, the model definition,\n",
        "        saved in json, and the model weights, saved in HDF5.\n",
        "    \"\"\"\n",
        "    model = load_model(os.path.join(models_dir, basename))\n",
        "    model.load_weights(os.path.join(weights_dir, basename))\n",
        "    return model\n",
        "\n",
        "\n",
        "def save_keras_model(model, basename):\n",
        "    \"\"\"\n",
        "        Saves the given model to disk, using a generated filename if one is not given.\n",
        "    \"\"\"\n",
        "    model.save(os.path.join(models_dir, basename))\n",
        "    model.save_weights(os.path.join(weights_dir, basename))"
      ],
      "execution_count": null,
      "outputs": []
    },
    {
      "cell_type": "code",
      "metadata": {
        "id": "iGhQIAPvN2TD",
        "colab_type": "code",
        "colab": {
          "base_uri": "https://localhost:8080/",
          "height": 35
        },
        "outputId": "cf3d9b36-bb32-4b22-8b29-82ca13689a6d"
      },
      "source": [
        "if USE_OLD_MODEL:\n",
        "  print(\"Using Old Model\")\n",
        "  model = load_keras_model(BASENAME)\n",
        "elif USE_BASE_MODEL:\n",
        "  print(\"Using Base Model\")\n",
        "  model=load_keras_model(BASEMODEL_NAME)\n",
        "else:\n",
        "  print(\"Making New Model\")\n",
        "  model = build_model(len(characters))"
      ],
      "execution_count": null,
      "outputs": [
        {
          "output_type": "stream",
          "text": [
            "Making New Model\n"
          ],
          "name": "stdout"
        }
      ]
    },
    {
      "cell_type": "code",
      "metadata": {
        "id": "WhscS_DrN4pQ",
        "colab_type": "code",
        "colab": {
          "base_uri": "https://localhost:8080/",
          "height": 377
        },
        "outputId": "a25f2433-4f58-4d76-9426-9c85b9f294a8"
      },
      "source": [
        "trained_model = model.fit(X, y, batch_size=BATCH_SIZE, epochs= EPOCHS, validation_data=(X_val, y_val))"
      ],
      "execution_count": null,
      "outputs": [
        {
          "output_type": "stream",
          "text": [
            "Epoch 1/10\n",
            "1065/1065 [==============================] - 95s 89ms/step - loss: 2.7289 - val_loss: 2.1587\n",
            "Epoch 2/10\n",
            "1065/1065 [==============================] - 92s 86ms/step - loss: 2.0457 - val_loss: 1.9065\n",
            "Epoch 3/10\n",
            "1065/1065 [==============================] - 92s 86ms/step - loss: 1.8607 - val_loss: 1.7470\n",
            "Epoch 4/10\n",
            "1065/1065 [==============================] - 92s 86ms/step - loss: 1.7363 - val_loss: 1.5925\n",
            "Epoch 5/10\n",
            "1065/1065 [==============================] - 92s 86ms/step - loss: 1.6520 - val_loss: 1.5468\n",
            "Epoch 6/10\n",
            "1065/1065 [==============================] - 92s 86ms/step - loss: 1.5785 - val_loss: 1.4000\n",
            "Epoch 7/10\n",
            "1065/1065 [==============================] - 92s 86ms/step - loss: 1.5095 - val_loss: 1.3151\n",
            "Epoch 8/10\n",
            "1065/1065 [==============================] - 92s 86ms/step - loss: 1.4521 - val_loss: 1.2410\n",
            "Epoch 9/10\n",
            "1065/1065 [==============================] - 92s 86ms/step - loss: 1.3937 - val_loss: 1.1612\n",
            "Epoch 10/10\n",
            "1065/1065 [==============================] - 92s 86ms/step - loss: 1.3451 - val_loss: 1.1289\n"
          ],
          "name": "stdout"
        }
      ]
    },
    {
      "cell_type": "markdown",
      "metadata": {
        "id": "ZQD7GhdzzVKX",
        "colab_type": "text"
      },
      "source": [
        "# Loss\n",
        "Below is the Training Loss and Validation Loss respectively as we progress through the epochs. Below are the visualizations of the loss"
      ]
    },
    {
      "cell_type": "code",
      "metadata": {
        "id": "s5C0Pq9BwbRk",
        "colab_type": "code",
        "colab": {
          "base_uri": "https://localhost:8080/"
        },
        "outputId": "0b87e03c-c12a-45be-cd78-802966dd8ce5"
      },
      "source": [
        "loss_values = trained_model.history['loss']\n",
        "epochs = range(1, len(loss_values)+1)\n",
        "\n",
        "plt.plot(epochs, loss_values, label='Training Loss')\n",
        "plt.xlabel('Epochs')\n",
        "plt.ylabel('Loss')\n",
        "plt.title(\"Training Loss vs Epochs\")\n",
        "plt.legend()\n",
        "\n",
        "plt.show()"
      ],
      "execution_count": null,
      "outputs": [
        {
          "output_type": "display_data",
          "data": {
            "image/png": "[encoded data removed]",
            "text/plain": [
              "<Figure size 432x288 with 1 Axes>"
            ]
          },
          "metadata": {
            "tags": [],
            "needs_background": "light"
          }
        }
      ]
    },
    {
      "cell_type": "code",
      "metadata": {
        "id": "gj17gOPwzMlx",
        "colab_type": "code",
        "colab": {
          "base_uri": "https://localhost:8080/"
        },
        "outputId": "c14a694d-6d02-4b12-93a9-9325a858fe3e"
      },
      "source": [
        "loss_values = trained_model.history['val_loss']\n",
        "epochs = range(1, len(loss_values)+1)\n",
        "\n",
        "plt.plot(epochs, loss_values, label='Validation Loss')\n",
        "plt.xlabel('Epochs')\n",
        "plt.ylabel('Loss')\n",
        "plt.title(\"Validation Loss vs Epochs\")\n",
        "plt.legend()\n",
        "\n",
        "plt.show()"
      ],
      "execution_count": null,
      "outputs": [
        {
          "output_type": "display_data",
          "data": {
            "image/png": "[encoded data removed]",
            "text/plain": [
              "<Figure size 432x288 with 1 Axes>"
            ]
          },
          "metadata": {
            "tags": [],
            "needs_background": "light"
          }
        }
      ]
    },
    {
      "cell_type": "markdown",
      "metadata": {
        "id": "DWJpFM2VwGNw",
        "colab_type": "text"
      },
      "source": [
        "# Generating Tweets \n",
        "I generated the tweets over here. Within my function, I included an optional seed. Seed is an input phrase and model will predict what comes after it and some random sequence from the corpus. If you do not input a seed it will just start off with a random sequence. Either way, seed is exactly SEQ_LEN characters long.\n",
        "\n",
        "\n",
        "At each step of the generation, the model will the the current seed as the input and predict the most likely character. This character gets added to our ongoing sequence as well as the current \"seed\". The first character of the seed gets removed as well. At any point in time, the seed is exactly SEQ_LEN characters long.\n",
        "\n",
        "\n",
        "The way I predicted what character would come after a function requried some randomness which was found from the NOISE_VALS array. Normally, the largest probability would be the character predicted; however, if this happens that means that it would be really easy to get into a cycle of words \"the the the the....\". With the noise, we still pick likely words just not the most likely words at all times.\n",
        "\n",
        "\n"
      ]
    },
    {
      "cell_type": "code",
      "metadata": {
        "id": "iJSi5yP1N5jK",
        "colab_type": "code",
        "colab": {
          "base_uri": "https://localhost:8080/",
          "height": 235
        },
        "outputId": "8de47649-e7a5-4054-c6cd-f86138813ef5"
      },
      "source": [
        "def sample_predictions(preds, noise=1.0):\n",
        "  preds = np.asarray(preds).astype('float64')\n",
        "  preds = np.log(preds) / noise\n",
        "  exp_preds = np.exp(preds)\n",
        "  preds = exp_preds / np.sum(exp_preds)\n",
        "  probas = np.random.multinomial(1, preds, 1)\n",
        "  # Return the index of the largest element\n",
        "  return np.argmax(probas)\n",
        "\n",
        "def generate_tweet(model = model,corpus = corpus, \n",
        "                   char_to_indices = char_to_index, \n",
        "                   indices_to_char =index_to_char , \n",
        "                   num_chars = len(characters), seed = None):\n",
        "  g = []\n",
        "  if not seed:\n",
        "    rand_num = random.randint(0, len(corpus) - SEQ_LEN - 1)\n",
        "    seed = corpus[rand_num:rand_num+SEQ_LEN]\n",
        "    print(seed)\n",
        "  else:\n",
        "    rand_num = random.randint(0, len(corpus) - SEQ_LEN-1)\n",
        "    seed = corpus[rand_num:rand_num+SEQ_LEN-len(seed)] + seed \n",
        "  \n",
        "  for noise in NOISE_VALS:\n",
        "      generated = ''\n",
        "      for i in range(GEN_LEN):\n",
        "          X_pred = np.zeros((1, SEQ_LEN, num_chars))\n",
        "          for t, c in enumerate(seed):\n",
        "              X_pred[0, t, char_to_indices[c]] = 1\n",
        "\n",
        "          predictions = model.predict(X_pred)[0]\n",
        "          next_index = sample_predictions(predictions, noise)\n",
        "          next_char = indices_to_char[next_index]\n",
        "          generated += next_char\n",
        "          seed = seed[1:] + next_char\n",
        "      g.append(generated)\n",
        "  return g\n",
        "\n",
        "generate_tweet()"
      ],
      "execution_count": null,
      "outputs": [
        {
          "output_type": "stream",
          "text": [
            " in america.here's what we can do about it: trump is claiming an airplane full of thugs in black uniforms is out to do b\n"
          ],
          "name": "stdout"
        },
        {
          "output_type": "execute_result",
          "data": {
            "text/plain": [
              "['e make as because the money and republicans who has been all as the pandemic was and percent and budget about the president of the people in when you hear the people of the pandemic was a pandemic reminder that the pandemic reminder that the post of ',\n",
              " 'the pent of the u.s. the pandemic should be impeachment the pandemic was and percent and the pandemic was as monoly but than the past                                                                                                                     ',\n",
              " '                                                                                                                                                                                                                                                          ',\n",
              " '                                                                                                                                                                                                                                                          ',\n",
              " '                                                                                                                                                                                                                                                          ',\n",
              " '                                                                                                                                                                                                                                                          ',\n",
              " '                                                                                                                                                                                                                                                          ',\n",
              " '                                                                                                                                                                                                                                                          ',\n",
              " '                                                                                                                                                                                                                                                          ',\n",
              " '                                                                                                                                                                                                                                                          ']"
            ]
          },
          "metadata": {
            "tags": []
          },
          "execution_count": 21
        }
      ]
    },
    {
      "cell_type": "code",
      "metadata": {
        "id": "T6U4-h6V1mNI",
        "colab_type": "code",
        "colab": {
          "base_uri": "https://localhost:8080/",
          "height": 163
        },
        "outputId": "29e2d1fa-6179-4b73-b54b-3979b8492d4d"
      },
      "source": [
        "save_keras_model(model, BASENAME)"
      ],
      "execution_count": null,
      "outputs": [
        {
          "output_type": "stream",
          "text": [
            "WARNING:tensorflow:From /usr/local/lib/python3.6/dist-packages/tensorflow/python/training/tracking/tracking.py:111: Model.state_updates (from tensorflow.python.keras.engine.training) is deprecated and will be removed in a future version.\n",
            "Instructions for updating:\n",
            "This property should not be used in TensorFlow 2.0, as updates are applied automatically.\n",
            "WARNING:tensorflow:From /usr/local/lib/python3.6/dist-packages/tensorflow/python/training/tracking/tracking.py:111: Layer.updates (from tensorflow.python.keras.engine.base_layer) is deprecated and will be removed in a future version.\n",
            "Instructions for updating:\n",
            "This property should not be used in TensorFlow 2.0, as updates are applied automatically.\n",
            "INFO:tensorflow:Assets written to: gdrive/My Drive/TrickTweet/Models/RBReich/assets\n"
          ],
          "name": "stdout"
        }
      ]
    },
    {
      "cell_type": "code",
      "metadata": {
        "id": "ZH-GiY591obT",
        "colab_type": "code",
        "colab": {
          "base_uri": "https://localhost:8080/",
          "height": 35
        },
        "outputId": "0aea0098-c748-490c-b2f9-85930a8b6268"
      },
      "source": [
        "!ls \"/content/gdrive/My Drive/TrickTweet/Models\""
      ],
      "execution_count": null,
      "outputs": [
        {
          "output_type": "stream",
          "text": [
            "AOC  basemodel\telonmusk  jamescharles\tRBReich\n"
          ],
          "name": "stdout"
        }
      ]
    },
    {
      "cell_type": "code",
      "metadata": {
        "id": "6rcUVMZ0zh4T",
        "colab_type": "code",
        "colab": {}
      },
      "source": [
        ""
      ],
      "execution_count": null,
      "outputs": []
    }
  ]
}